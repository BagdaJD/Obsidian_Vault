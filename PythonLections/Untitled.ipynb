{
 "cells": [
  {
   "cell_type": "code",
   "execution_count": 1,
   "id": "c46e55a4-744a-47e1-ae37-b7825e0e3a2d",
   "metadata": {},
   "outputs": [
    {
     "name": "stdout",
     "output_type": "stream",
     "text": [
      "Hi\n"
     ]
    }
   ],
   "source": [
    "print('Hi')"
   ]
  },
  {
   "cell_type": "code",
   "execution_count": 2,
   "id": "bb93dc03-0b7a-4c72-96b1-e6be111d9167",
   "metadata": {},
   "outputs": [
    {
     "data": {
      "text/plain": [
       "4"
      ]
     },
     "execution_count": 2,
     "metadata": {},
     "output_type": "execute_result"
    }
   ],
   "source": [
    "3+1"
   ]
  },
  {
   "cell_type": "code",
   "execution_count": 3,
   "id": "c33ecb32-8874-4f63-ad69-6a4327a73a40",
   "metadata": {},
   "outputs": [
    {
     "data": {
      "text/plain": [
       "2"
      ]
     },
     "execution_count": 3,
     "metadata": {},
     "output_type": "execute_result"
    }
   ],
   "source": [
    "1^3"
   ]
  },
  {
   "cell_type": "code",
   "execution_count": 4,
   "id": "daf8dd16-96e8-4468-854a-fce1b7f3f910",
   "metadata": {},
   "outputs": [
    {
     "data": {
      "text/plain": [
       "3"
      ]
     },
     "execution_count": 4,
     "metadata": {},
     "output_type": "execute_result"
    }
   ],
   "source": [
    "1*3"
   ]
  },
  {
   "cell_type": "code",
   "execution_count": 5,
   "id": "822f874a-a284-422a-b5ad-d62f923bb096",
   "metadata": {},
   "outputs": [
    {
     "name": "stderr",
     "output_type": "stream",
     "text": [
      "IOPub data rate exceeded.\n",
      "The Jupyter server will temporarily stop sending output\n",
      "to the client in order to avoid crashing it.\n",
      "To change this limit, set the config variable\n",
      "`--ServerApp.iopub_data_rate_limit`.\n",
      "\n",
      "Current values:\n",
      "ServerApp.iopub_data_rate_limit=1000000.0 (bytes/sec)\n",
      "ServerApp.rate_limit_window=3.0 (secs)\n",
      "\n"
     ]
    }
   ],
   "source": [
    "print('Эдик топ '*10000000)\n"
   ]
  },
  {
   "cell_type": "code",
   "execution_count": 6,
   "id": "aef5f01a-ee37-4415-b06e-e8758c63f9b2",
   "metadata": {},
   "outputs": [
    {
     "name": "stdout",
     "output_type": "stream",
     "text": [
      "Эжик топ(сарказм)Эжик топ(сарказм)Эжик топ(сарказм)Эжик топ(сарказм)Эжик топ(сарказм)Эжик топ(сарказм)Эжик топ(сарказм)Эжик топ(сарказм)Эжик топ(сарказм)Эжик топ(сарказм)Эжик топ(сарказм)Эжик топ(сарказм)Эжик топ(сарказм)Эжик топ(сарказм)Эжик топ(сарказм)Эжик топ(сарказм)Эжик топ(сарказм)Эжик топ(сарказм)Эжик топ(сарказм)Эжик топ(сарказм)Эжик топ(сарказм)Эжик топ(сарказм)Эжик топ(сарказм)Эжик топ(сарказм)Эжик топ(сарказм)Эжик топ(сарказм)Эжик топ(сарказм)Эжик топ(сарказм)Эжик топ(сарказм)Эжик топ(сарказм)Эжик топ(сарказм)Эжик топ(сарказм)Эжик топ(сарказм)Эжик топ(сарказм)Эжик топ(сарказм)Эжик топ(сарказм)Эжик топ(сарказм)Эжик топ(сарказм)Эжик топ(сарказм)Эжик топ(сарказм)Эжик топ(сарказм)Эжик топ(сарказм)Эжик топ(сарказм)Эжик топ(сарказм)Эжик топ(сарказм)Эжик топ(сарказм)Эжик топ(сарказм)Эжик топ(сарказм)Эжик топ(сарказм)Эжик топ(сарказм)Эжик топ(сарказм)Эжик топ(сарказм)Эжик топ(сарказм)Эжик топ(сарказм)Эжик топ(сарказм)Эжик топ(сарказм)Эжик топ(сарказм)Эжик топ(сарказм)Эжик топ(сарказм)Эжик топ(сарказм)Эжик топ(сарказм)Эжик топ(сарказм)Эжик топ(сарказм)Эжик топ(сарказм)Эжик топ(сарказм)Эжик топ(сарказм)Эжик топ(сарказм)Эжик топ(сарказм)Эжик топ(сарказм)Эжик топ(сарказм)Эжик топ(сарказм)Эжик топ(сарказм)Эжик топ(сарказм)Эжик топ(сарказм)Эжик топ(сарказм)Эжик топ(сарказм)Эжик топ(сарказм)Эжик топ(сарказм)Эжик топ(сарказм)Эжик топ(сарказм)Эжик топ(сарказм)Эжик топ(сарказм)Эжик топ(сарказм)Эжик топ(сарказм)Эжик топ(сарказм)Эжик топ(сарказм)Эжик топ(сарказм)Эжик топ(сарказм)Эжик топ(сарказм)Эжик топ(сарказм)Эжик топ(сарказм)Эжик топ(сарказм)Эжик топ(сарказм)Эжик топ(сарказм)Эжик топ(сарказм)Эжик топ(сарказм)Эжик топ(сарказм)Эжик топ(сарказм)Эжик топ(сарказм)Эжик топ(сарказм)\n"
     ]
    }
   ],
   "source": [
    "print('Эжик топ(сарказм)'*100)"
   ]
  },
  {
   "cell_type": "code",
   "execution_count": 7,
   "id": "81077632-610f-4c1a-9c4a-ccd67cf13b75",
   "metadata": {},
   "outputs": [
    {
     "name": "stdout",
     "output_type": "stream",
     "text": [
      "t\n"
     ]
    }
   ],
   "source": [
    "x = 'cat and dog'\n",
    "print(max(x))\n"
   ]
  },
  {
   "cell_type": "code",
   "execution_count": null,
   "id": "e41e44f2-f053-45f3-8562-8462f759da04",
   "metadata": {},
   "outputs": [],
   "source": []
  }
 ],
 "metadata": {
  "kernelspec": {
   "display_name": "Python 3 (ipykernel)",
   "language": "python",
   "name": "python3"
  },
  "language_info": {
   "codemirror_mode": {
    "name": "ipython",
    "version": 3
   },
   "file_extension": ".py",
   "mimetype": "text/x-python",
   "name": "python",
   "nbconvert_exporter": "python",
   "pygments_lexer": "ipython3",
   "version": "3.12.5"
  }
 },
 "nbformat": 4,
 "nbformat_minor": 5
}
