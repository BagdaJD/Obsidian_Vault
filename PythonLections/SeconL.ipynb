{
 "cells": [
  {
   "cell_type": "code",
   "execution_count": 1,
   "id": "dd712204-a241-4803-95a8-a5e99048f7dc",
   "metadata": {},
   "outputs": [
    {
     "name": "stdout",
     "output_type": "stream",
     "text": [
      "0.0\n",
      "2.718281828459045\n",
      "1.6487212707001282\n"
     ]
    }
   ],
   "source": [
    "import math\n",
    "print(1 / math.inf)\n",
    "print(math.e)\n",
    "print(math.sqrt(math.e))"
   ]
  },
  {
   "cell_type": "code",
   "execution_count": 2,
   "id": "367b7362-5f33-43d3-8b3f-f34ca8959342",
   "metadata": {},
   "outputs": [
    {
     "ename": "NameError",
     "evalue": "name 'exp' is not defined",
     "output_type": "error",
     "traceback": [
      "\u001b[1;31m---------------------------------------------------------------------------\u001b[0m",
      "\u001b[1;31mNameError\u001b[0m                                 Traceback (most recent call last)",
      "Cell \u001b[1;32mIn[2], line 1\u001b[0m\n\u001b[1;32m----> 1\u001b[0m \u001b[38;5;28mprint\u001b[39m(\u001b[43mexp\u001b[49m(\u001b[38;5;241m1\u001b[39m))\n",
      "\u001b[1;31mNameError\u001b[0m: name 'exp' is not defined"
     ]
    }
   ],
   "source": [
    "print(exp(1))"
   ]
  },
  {
   "cell_type": "code",
   "execution_count": 3,
   "id": "08e0a547-6da6-437d-9acf-06de5641d048",
   "metadata": {},
   "outputs": [
    {
     "ename": "NameError",
     "evalue": "name 'exp' is not defined",
     "output_type": "error",
     "traceback": [
      "\u001b[1;31m---------------------------------------------------------------------------\u001b[0m",
      "\u001b[1;31mNameError\u001b[0m                                 Traceback (most recent call last)",
      "Cell \u001b[1;32mIn[3], line 2\u001b[0m\n\u001b[0;32m      1\u001b[0m \u001b[38;5;28;01mimport\u001b[39;00m \u001b[38;5;21;01mmath\u001b[39;00m\n\u001b[1;32m----> 2\u001b[0m a \u001b[38;5;241m=\u001b[39m \u001b[43mexp\u001b[49m(\u001b[38;5;241m1\u001b[39m)\n\u001b[0;32m      3\u001b[0m \u001b[38;5;28mprint\u001b[39m(a)\n",
      "\u001b[1;31mNameError\u001b[0m: name 'exp' is not defined"
     ]
    }
   ],
   "source": [
    "import math\n",
    "a = exp(1)\n",
    "print(a)"
   ]
  },
  {
   "cell_type": "code",
   "execution_count": 4,
   "id": "19c60c8a-1b1d-4118-a7fe-29c6a62361d0",
   "metadata": {},
   "outputs": [
    {
     "ename": "NameError",
     "evalue": "name 'log10' is not defined",
     "output_type": "error",
     "traceback": [
      "\u001b[1;31m---------------------------------------------------------------------------\u001b[0m",
      "\u001b[1;31mNameError\u001b[0m                                 Traceback (most recent call last)",
      "Cell \u001b[1;32mIn[4], line 1\u001b[0m\n\u001b[1;32m----> 1\u001b[0m \u001b[38;5;28mprint\u001b[39m(\u001b[43mlog10\u001b[49m(\u001b[38;5;241m3\u001b[39m))\n",
      "\u001b[1;31mNameError\u001b[0m: name 'log10' is not defined"
     ]
    }
   ],
   "source": [
    "print(log10(3))"
   ]
  },
  {
   "cell_type": "code",
   "execution_count": 5,
   "id": "b5b2584e-66cd-42b1-8a26-6bff68ce493c",
   "metadata": {},
   "outputs": [
    {
     "ename": "NameError",
     "evalue": "name 'Math' is not defined",
     "output_type": "error",
     "traceback": [
      "\u001b[1;31m---------------------------------------------------------------------------\u001b[0m",
      "\u001b[1;31mNameError\u001b[0m                                 Traceback (most recent call last)",
      "Cell \u001b[1;32mIn[5], line 1\u001b[0m\n\u001b[1;32m----> 1\u001b[0m \u001b[38;5;28mprint\u001b[39m(\u001b[43mMath\u001b[49m\u001b[38;5;241m.\u001b[39mexp(\u001b[38;5;241m1\u001b[39m))\n",
      "\u001b[1;31mNameError\u001b[0m: name 'Math' is not defined"
     ]
    }
   ],
   "source": [
    "print(Math.exp(1))\n"
   ]
  },
  {
   "cell_type": "code",
   "execution_count": 6,
   "id": "087d543c-46d3-4d17-873b-a51479e02290",
   "metadata": {},
   "outputs": [
    {
     "name": "stdout",
     "output_type": "stream",
     "text": [
      "2.718281828459045\n"
     ]
    }
   ],
   "source": [
    "print(math.exp(1))\n"
   ]
  },
  {
   "cell_type": "code",
   "execution_count": 7,
   "id": "713c2637-3877-47dd-803f-56f7593786ba",
   "metadata": {},
   "outputs": [
    {
     "name": "stdout",
     "output_type": "stream",
     "text": [
      "Hello, i world\n"
     ]
    }
   ],
   "source": [
    "print(\"Hello, i \\\n",
    "world\")"
   ]
  },
  {
   "cell_type": "code",
   "execution_count": 8,
   "id": "91b82d02-9042-4a4d-8423-cc3d522d42db",
   "metadata": {},
   "outputs": [
    {
     "ename": "SyntaxError",
     "evalue": "unterminated string literal (detected at line 1) (614537518.py, line 1)",
     "output_type": "error",
     "traceback": [
      "\u001b[1;36m  Cell \u001b[1;32mIn[8], line 1\u001b[1;36m\u001b[0m\n\u001b[1;33m    print(\"Hello, i /\u001b[0m\n\u001b[1;37m          ^\u001b[0m\n\u001b[1;31mSyntaxError\u001b[0m\u001b[1;31m:\u001b[0m unterminated string literal (detected at line 1)\n"
     ]
    }
   ],
   "source": [
    "print(\"Hello, i /\n",
    "world\")"
   ]
  },
  {
   "cell_type": "code",
   "execution_count": 9,
   "id": "86b518c9-41db-4396-86ff-8964647ea555",
   "metadata": {},
   "outputs": [
    {
     "name": "stdout",
     "output_type": "stream",
     "text": [
      "Hello, i /world\n"
     ]
    }
   ],
   "source": [
    "print(\"Hello, i /world\")"
   ]
  },
  {
   "cell_type": "code",
   "execution_count": 10,
   "id": "330171c0-1098-4677-9738-837a44294856",
   "metadata": {},
   "outputs": [
    {
     "name": "stdout",
     "output_type": "stream",
     "text": [
      "Hello, i \\world\n"
     ]
    },
    {
     "name": "stderr",
     "output_type": "stream",
     "text": [
      "<>:1: SyntaxWarning: invalid escape sequence '\\w'\n",
      "<>:1: SyntaxWarning: invalid escape sequence '\\w'\n",
      "C:\\Users\\Bagdasar\\AppData\\Local\\Temp\\ipykernel_10188\\3130617108.py:1: SyntaxWarning: invalid escape sequence '\\w'\n",
      "  print(\"Hello, i \\world\")\n"
     ]
    }
   ],
   "source": [
    "print(\"Hello, i \\world\")"
   ]
  },
  {
   "cell_type": "code",
   "execution_count": 11,
   "id": "7d5d331a-04b5-44a7-974c-8648c5bdbc17",
   "metadata": {},
   "outputs": [
    {
     "name": "stdout",
     "output_type": "stream",
     "text": [
      "21\n"
     ]
    }
   ],
   "source": [
    "a = 1 + 2 + 3 + 4 \\\n",
    "    + 5 + 6\n",
    "print(a)"
   ]
  },
  {
   "cell_type": "code",
   "execution_count": 12,
   "id": "1ea8f724-d955-4c01-82b9-7acba2089312",
   "metadata": {},
   "outputs": [
    {
     "name": "stdout",
     "output_type": "stream",
     "text": [
      "jdbjdbcjdbcjbdjcbdjcbjcbdjbcjdcbjdbc\n",
      "cbdbcjdbcbjdbcjdbcjdbcjdbcjdbc\n",
      "cjdbcjdbjcbjcbjdcb\n"
     ]
    }
   ],
   "source": [
    "st = '''jdbjdbcjdbcjbdjcbdjcbjcbdjbcjdcbjdbc\n",
    "cbdbcjdbcbjdbcjdbcjdbcjdbcjdbc\n",
    "cjdbcjdbjcbjcbjdcb'''\n",
    "print(st)"
   ]
  },
  {
   "cell_type": "code",
   "execution_count": 14,
   "id": "306a02b2-63b1-41fb-b4be-da00cfb6a33c",
   "metadata": {},
   "outputs": [
    {
     "ename": "TypeError",
     "evalue": "unhashable type: 'list'",
     "output_type": "error",
     "traceback": [
      "\u001b[1;31m---------------------------------------------------------------------------\u001b[0m",
      "\u001b[1;31mTypeError\u001b[0m                                 Traceback (most recent call last)",
      "Cell \u001b[1;32mIn[14], line 2\u001b[0m\n\u001b[0;32m      1\u001b[0m tup \u001b[38;5;241m=\u001b[39m (\u001b[38;5;241m10\u001b[39m, \u001b[38;5;241m-\u001b[39m\u001b[38;5;241m20\u001b[39m, \u001b[38;5;124m'\u001b[39m\u001b[38;5;124mcat\u001b[39m\u001b[38;5;124m'\u001b[39m, [\u001b[38;5;241m20\u001b[39m, \u001b[38;5;241m3\u001b[39m, \u001b[38;5;241m4\u001b[39m])\n\u001b[1;32m----> 2\u001b[0m \u001b[38;5;28mprint\u001b[39m({tup})\n",
      "\u001b[1;31mTypeError\u001b[0m: unhashable type: 'list'"
     ]
    }
   ],
   "source": [
    "tup = (10, -20, 'cat', [20, 3, 4])\n",
    "print({tup})"
   ]
  },
  {
   "cell_type": "code",
   "execution_count": 15,
   "id": "eddc371f-8a7b-4ec6-96fc-7f882523e90f",
   "metadata": {},
   "outputs": [
    {
     "name": "stdout",
     "output_type": "stream",
     "text": [
      "('Cat', 'Dog')\n"
     ]
    }
   ],
   "source": [
    "set0 = ('Cat', 'Dog')\n",
    "print(set0)"
   ]
  },
  {
   "cell_type": "code",
   "execution_count": 16,
   "id": "650bd301-2fe3-4988-b216-6774b893e3ac",
   "metadata": {},
   "outputs": [
    {
     "ename": "NameError",
     "evalue": "name 'x' is not defined",
     "output_type": "error",
     "traceback": [
      "\u001b[1;31m---------------------------------------------------------------------------\u001b[0m",
      "\u001b[1;31mNameError\u001b[0m                                 Traceback (most recent call last)",
      "Cell \u001b[1;32mIn[16], line 1\u001b[0m\n\u001b[1;32m----> 1\u001b[0m z \u001b[38;5;241m=\u001b[39m math\u001b[38;5;241m.\u001b[39mexp(\u001b[38;5;241m10\u001b[39m \u001b[38;5;241m*\u001b[39m math\u001b[38;5;241m.\u001b[39mlog(\u001b[43mx\u001b[49m))\n",
      "\u001b[1;31mNameError\u001b[0m: name 'x' is not defined"
     ]
    }
   ],
   "source": [
    "z = math.exp(10 * math.log(x))\n"
   ]
  },
  {
   "cell_type": "code",
   "execution_count": null,
   "id": "c92937bc-4ebe-4979-987f-5e5c197d41b2",
   "metadata": {},
   "outputs": [],
   "source": []
  }
 ],
 "metadata": {
  "kernelspec": {
   "display_name": "Python 3 (ipykernel)",
   "language": "python",
   "name": "python3"
  },
  "language_info": {
   "codemirror_mode": {
    "name": "ipython",
    "version": 3
   },
   "file_extension": ".py",
   "mimetype": "text/x-python",
   "name": "python",
   "nbconvert_exporter": "python",
   "pygments_lexer": "ipython3",
   "version": "3.12.5"
  }
 },
 "nbformat": 4,
 "nbformat_minor": 5
}
